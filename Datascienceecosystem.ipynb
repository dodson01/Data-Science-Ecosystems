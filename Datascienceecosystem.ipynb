{
 "cells": [
  {
   "cell_type": "markdown",
   "id": "43ae0a88-646d-46f7-8821-35595ea1ca40",
   "metadata": {},
   "source": [
    "# Data Science Tools and Ecosystems"
   ]
  },
  {
   "cell_type": "markdown",
   "id": "6f509311-fce7-495b-b91a-755b1da7d36f",
   "metadata": {},
   "source": [
    "In this notebook, data science tools and ecosystems are summarized."
   ]
  },
  {
   "cell_type": "code",
   "execution_count": null,
   "id": "3e304d76-6002-475e-8e29-606da0d5245c",
   "metadata": {},
   "outputs": [],
   "source": [
    "**Objectives:**\n",
    "*Languages of Data Science\n",
    "*Libraries for Data Science\n",
    "*Tools for Data Science"
   ]
  },
  {
   "cell_type": "code",
   "execution_count": null,
   "id": "55fb8ac3-23b3-4912-9ad6-675b17b8eb3f",
   "metadata": {},
   "outputs": [],
   "source": [
    "## Author \n",
    "Erin Dodson"
   ]
  },
  {
   "cell_type": "code",
   "execution_count": null,
   "id": "ed97e62b-c12c-4190-a84d-cca58d443b29",
   "metadata": {},
   "outputs": [],
   "source": [
    "Some of the popular languages that data scientists use are:"
   ]
  },
  {
   "cell_type": "code",
   "execution_count": null,
   "id": "7a47f844-72cd-4846-9717-aea395ce8680",
   "metadata": {},
   "outputs": [],
   "source": [
    "1. Python\n",
    "2. Scala\n",
    "3. Java\n",
    "4. SQL\n",
    "5. Julia"
   ]
  },
  {
   "cell_type": "code",
   "execution_count": null,
   "id": "9aa56bb3-5a5c-477c-801a-2831ab433973",
   "metadata": {},
   "outputs": [],
   "source": [
    "Some of the commonly used libraries used by data scientists include:\n",
    "1. Pandas\n",
    "2. NumPy\n",
    "3. Matplotlib"
   ]
  },
  {
   "cell_type": "code",
   "execution_count": null,
   "id": "71f4f35e-a017-4c59-92cc-8d987fbc7d9c",
   "metadata": {},
   "outputs": [],
   "source": [
    "| Data Science Tools |\n",
    ":--------------------:\n",
    "| JupyterLab |\n",
    "| Anaconda |\n",
    "| VS Code |"
   ]
  },
  {
   "cell_type": "code",
   "execution_count": null,
   "id": "96ec75e9-7d4e-457c-b74b-1f1041cd08fe",
   "metadata": {},
   "outputs": [],
   "source": [
    "### Below are a few examples of evaluating arithmetic expressions in Python."
   ]
  },
  {
   "cell_type": "code",
   "execution_count": 1,
   "id": "dd414140-ca58-4726-a5be-a01c2e4f867e",
   "metadata": {},
   "outputs": [
    {
     "data": {
      "text/plain": [
       "17"
      ]
     },
     "execution_count": 1,
     "metadata": {},
     "output_type": "execute_result"
    }
   ],
   "source": [
    "(3*4)+5"
   ]
  },
  {
   "cell_type": "code",
   "execution_count": null,
   "id": "90549b38-14f9-4765-b5ce-bc317665056c",
   "metadata": {},
   "outputs": [],
   "source": [
    "This is a simple arithmetic expression to multiply then add integers."
   ]
  },
  {
   "cell_type": "code",
   "execution_count": null,
   "id": "0e738168-1ca3-4ba5-9a9b-1e26e86445f2",
   "metadata": {},
   "outputs": [],
   "source": [
    "This will convert 200 minutes to hours by minutes. "
   ]
  },
  {
   "cell_type": "code",
   "execution_count": 3,
   "id": "300a2f69-ab70-498a-b403-6128210caaa3",
   "metadata": {},
   "outputs": [
    {
     "data": {
      "text/plain": [
       "3.3333333333333335"
      ]
     },
     "execution_count": 3,
     "metadata": {},
     "output_type": "execute_result"
    }
   ],
   "source": [
    "(200/60)"
   ]
  },
  {
   "cell_type": "code",
   "execution_count": null,
   "id": "2ced9019-82c8-4081-b5a2-a652667cc612",
   "metadata": {},
   "outputs": [],
   "source": []
  }
 ],
 "metadata": {
  "kernelspec": {
   "display_name": "anaconda-2022.05-py39",
   "language": "python",
   "name": "conda-env-anaconda-2022.05-py39-py"
  },
  "language_info": {
   "codemirror_mode": {
    "name": "ipython",
    "version": 3
   },
   "file_extension": ".py",
   "mimetype": "text/x-python",
   "name": "python",
   "nbconvert_exporter": "python",
   "pygments_lexer": "ipython3",
   "version": "3.9.12"
  }
 },
 "nbformat": 4,
 "nbformat_minor": 5
}
